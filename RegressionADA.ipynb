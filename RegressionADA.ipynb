{
 "cells": [
  {
   "cell_type": "code",
   "execution_count": 1,
   "metadata": {},
   "outputs": [],
   "source": [
    "import math\n",
    "import pandas as pd\n",
    "import numpy as np\n",
    "import matplotlib.pyplot as plt\n",
    "\n",
    "from sklearn.linear_model import LinearRegression\n",
    "from sklearn.metrics import r2_score, mean_squared_error"
   ]
  },
  {
   "cell_type": "code",
   "execution_count": 2,
   "metadata": {},
   "outputs": [
    {
     "data": {
      "text/html": [
       "<div>\n",
       "<style scoped>\n",
       "    .dataframe tbody tr th:only-of-type {\n",
       "        vertical-align: middle;\n",
       "    }\n",
       "\n",
       "    .dataframe tbody tr th {\n",
       "        vertical-align: top;\n",
       "    }\n",
       "\n",
       "    .dataframe thead th {\n",
       "        text-align: right;\n",
       "    }\n",
       "</style>\n",
       "<table border=\"1\" class=\"dataframe\">\n",
       "  <thead>\n",
       "    <tr style=\"text-align: right;\">\n",
       "      <th></th>\n",
       "      <th>open_time</th>\n",
       "      <th>open</th>\n",
       "      <th>high</th>\n",
       "      <th>low</th>\n",
       "      <th>close</th>\n",
       "      <th>volume</th>\n",
       "      <th>close_time</th>\n",
       "    </tr>\n",
       "  </thead>\n",
       "  <tbody>\n",
       "    <tr>\n",
       "      <th>0</th>\n",
       "      <td>2018-05-01 05:30:00</td>\n",
       "      <td>0.34145</td>\n",
       "      <td>0.34199</td>\n",
       "      <td>0.31870</td>\n",
       "      <td>0.32173</td>\n",
       "      <td>32463784.08</td>\n",
       "      <td>2018-05-01 09:29:59</td>\n",
       "    </tr>\n",
       "    <tr>\n",
       "      <th>1</th>\n",
       "      <td>2018-05-01 09:30:00</td>\n",
       "      <td>0.32115</td>\n",
       "      <td>0.34300</td>\n",
       "      <td>0.32000</td>\n",
       "      <td>0.33787</td>\n",
       "      <td>14470581.61</td>\n",
       "      <td>2018-05-01 13:29:59</td>\n",
       "    </tr>\n",
       "    <tr>\n",
       "      <th>2</th>\n",
       "      <td>2018-05-01 13:30:00</td>\n",
       "      <td>0.33756</td>\n",
       "      <td>0.35900</td>\n",
       "      <td>0.33421</td>\n",
       "      <td>0.34093</td>\n",
       "      <td>25321414.19</td>\n",
       "      <td>2018-05-01 17:29:59</td>\n",
       "    </tr>\n",
       "    <tr>\n",
       "      <th>3</th>\n",
       "      <td>2018-05-01 17:30:00</td>\n",
       "      <td>0.34003</td>\n",
       "      <td>0.34290</td>\n",
       "      <td>0.33166</td>\n",
       "      <td>0.33735</td>\n",
       "      <td>16675168.68</td>\n",
       "      <td>2018-05-01 21:29:59</td>\n",
       "    </tr>\n",
       "    <tr>\n",
       "      <th>4</th>\n",
       "      <td>2018-05-01 21:30:00</td>\n",
       "      <td>0.33776</td>\n",
       "      <td>0.35950</td>\n",
       "      <td>0.33714</td>\n",
       "      <td>0.35374</td>\n",
       "      <td>18237446.69</td>\n",
       "      <td>2018-05-02 01:29:59</td>\n",
       "    </tr>\n",
       "  </tbody>\n",
       "</table>\n",
       "</div>"
      ],
      "text/plain": [
       "             open_time     open     high      low    close       volume  \\\n",
       "0  2018-05-01 05:30:00  0.34145  0.34199  0.31870  0.32173  32463784.08   \n",
       "1  2018-05-01 09:30:00  0.32115  0.34300  0.32000  0.33787  14470581.61   \n",
       "2  2018-05-01 13:30:00  0.33756  0.35900  0.33421  0.34093  25321414.19   \n",
       "3  2018-05-01 17:30:00  0.34003  0.34290  0.33166  0.33735  16675168.68   \n",
       "4  2018-05-01 21:30:00  0.33776  0.35950  0.33714  0.35374  18237446.69   \n",
       "\n",
       "            close_time  \n",
       "0  2018-05-01 09:29:59  \n",
       "1  2018-05-01 13:29:59  \n",
       "2  2018-05-01 17:29:59  \n",
       "3  2018-05-01 21:29:59  \n",
       "4  2018-05-02 01:29:59  "
      ]
     },
     "execution_count": 2,
     "metadata": {},
     "output_type": "execute_result"
    }
   ],
   "source": [
    "data = pd.read_csv(\"./preparedData/ADAUSDT.csv\")\n",
    "data.head()"
   ]
  },
  {
   "cell_type": "code",
   "execution_count": 3,
   "metadata": {},
   "outputs": [
    {
     "name": "stdout",
     "output_type": "stream",
     "text": [
      "(6216, 7)\n",
      "(1554, 7)\n"
     ]
    }
   ],
   "source": [
    "rows = data.shape[0]\n",
    "\n",
    "# Dividing the dataset into training and test data in the ratio (8:2)\n",
    "# data train\n",
    "data_train = data[:math.floor(rows*0.8)]\n",
    "\n",
    "# data test\n",
    "data_test = data[math.floor(rows*0.8):]\n",
    "\n",
    "print(data_train.shape)\n",
    "print(data_test.shape)"
   ]
  },
  {
   "cell_type": "code",
   "execution_count": 9,
   "metadata": {},
   "outputs": [
    {
     "data": {
      "text/plain": [
       "((6216,), (1554,), (6216,), (1554,))"
      ]
     },
     "execution_count": 9,
     "metadata": {},
     "output_type": "execute_result"
    }
   ],
   "source": [
    "# extracting the dependent and independent variables from train and test data\n",
    "\n",
    "X_train, Y_train = np.arange(data_train.shape[0]), data_train['close']\n",
    "X_test, Y_test = np.arange(data_test.shape[0]), data_test['close']\n",
    "\n",
    "X_train.shape, X_test.shape, Y_train.shape, Y_test.shape"
   ]
  },
  {
   "cell_type": "code",
   "execution_count": 10,
   "metadata": {},
   "outputs": [
    {
     "data": {
      "text/plain": [
       "((6216, 1), (1554, 1), (6216, 1), (1554, 1))"
      ]
     },
     "execution_count": 10,
     "metadata": {},
     "output_type": "execute_result"
    }
   ],
   "source": [
    "Y_train = np.array(Y_train).reshape(-1, 1)\n",
    "Y_test = np.array(Y_test).reshape(-1, 1)\n",
    "X_train = np.array(X_train).reshape(-1, 1)\n",
    "X_test = np.array(X_test).reshape(-1, 1)\n",
    "\n",
    "X_train.shape, X_test.shape, Y_train.shape, Y_test.shape\n"
   ]
  },
  {
   "cell_type": "code",
   "execution_count": 11,
   "metadata": {},
   "outputs": [
    {
     "data": {
      "text/plain": [
       "LinearRegression()"
      ]
     },
     "execution_count": 11,
     "metadata": {},
     "output_type": "execute_result"
    }
   ],
   "source": [
    "# linear regression model is initialized and values are fitted.\n",
    "model = LinearRegression()\n",
    "model.fit(X_train, Y_train)"
   ]
  },
  {
   "cell_type": "code",
   "execution_count": 12,
   "metadata": {},
   "outputs": [
    {
     "name": "stdout",
     "output_type": "stream",
     "text": [
      "The coefficient of determination (R-sqaure score) of the model is :  0.07655078081003597\n",
      "Intercept of the model is :  [0.03881455]\n",
      "Co-efficients of the model are :  [[2.39333633e-05]]\n"
     ]
    }
   ],
   "source": [
    "# the coefficient of determination of the prediction.\n",
    "print(\"The coefficient of determination (R-sqaure score) of the model is : \",\n",
    "      model.score(X_train, Y_train))\n",
    "\n",
    "print(\"Intercept of the model is : \", model.intercept_)\n",
    "print(\"Co-efficients of the model are : \", model.coef_)"
   ]
  },
  {
   "cell_type": "code",
   "execution_count": 13,
   "metadata": {},
   "outputs": [],
   "source": [
    "# getting the outcomes from the model for the both test and train data\n",
    "Y_pred = model.predict(X_test)\n",
    "Y_train_pred = model.predict(X_train)"
   ]
  },
  {
   "cell_type": "code",
   "execution_count": 14,
   "metadata": {},
   "outputs": [
    {
     "name": "stdout",
     "output_type": "stream",
     "text": [
      "For TEST Data : \n",
      "  Test mean squared error:  3.01\n",
      "  Test R square value :  -10.615\n",
      "  RMSE for test data :  1.735\n",
      "\n",
      "For TRAIN Data : \n",
      "  Train mean squared error:  0.022\n",
      "  Train R square value :  0.077\n",
      "  RMSE for Train data :  0.149\n"
     ]
    }
   ],
   "source": [
    "# checking for r2_score, mean_squared_error, RMSE performance metrics\n",
    "# for both test and train data\n",
    "\n",
    "# for test dataSet\n",
    "test_mse = mean_squared_error(Y_test, Y_pred)\n",
    "test_r2 = r2_score(Y_test, Y_pred)\n",
    "test_rmse = math.sqrt(mean_squared_error(Y_test, Y_pred))\n",
    "\n",
    "# for train dataSet\n",
    "train_mse = mean_squared_error(Y_train, Y_train_pred)\n",
    "train_r2 = r2_score(Y_train, Y_train_pred)\n",
    "train_rmse = math.sqrt(mean_squared_error(Y_train, Y_train_pred))\n",
    "\n",
    "print(\"For TEST Data : \")\n",
    "print(\"  Test mean squared error: \", round(test_mse, 3))\n",
    "print(\"  Test R square value : \", round(test_r2, 3))\n",
    "print(\"  RMSE for test data : \", round(test_rmse, 3))\n",
    "\n",
    "print(\"\\nFor TRAIN Data : \")\n",
    "print(\"  Train mean squared error: \", round(train_mse, 3))\n",
    "print(\"  Train R square value : \", round(train_r2, 3))\n",
    "print(\"  RMSE for Train data : \", round(train_rmse, 3))"
   ]
  },
  {
   "cell_type": "code",
   "execution_count": 15,
   "metadata": {},
   "outputs": [
    {
     "data": {
      "image/png": "[encoded data removed]",
      "text/plain": [
       "<Figure size 1080x864 with 2 Axes>"
      ]
     },
     "metadata": {
      "needs_background": "light"
     },
     "output_type": "display_data"
    }
   ],
   "source": [
    "fig, ax = plt.subplots(2, 1, figsize=(15, 12))\n",
    "\n",
    "indices = [i for i in range(len(Y_pred))]\n",
    "ax[0].scatter(indices, Y_test, color='red')\n",
    "ax[0].scatter(indices, Y_pred, color='green')\n",
    "ax[0].set_title(\"Predicted and Actual (on Test Data)\")\n",
    "ax[0].legend(['Actual data', 'Predicted data'])\n",
    "\n",
    "indicies = [i for i in range(len(Y_train))]\n",
    "ax[1].scatter(indicies, Y_train_pred, color='green')\n",
    "ax[1].scatter(indicies, Y_train, color='red')\n",
    "ax[1].set_title('Train Vs. Train_Predicted')\n",
    "ax[1].legend(['Actual data', 'Predicted data'])\n",
    "\n",
    "plt.show()"
   ]
  }
 ],
 "metadata": {
  "interpreter": {
   "hash": "e320152057eea021e47fe8cc1dfc9f3a6f51f00fb3f1a5070f08ecf7355f06e6"
  },
  "kernelspec": {
   "display_name": "Python 3.9.2 64-bit",
   "language": "python",
   "name": "python3"
  },
  "language_info": {
   "codemirror_mode": {
    "name": "ipython",
    "version": 3
   },
   "file_extension": ".py",
   "mimetype": "text/x-python",
   "name": "python",
   "nbconvert_exporter": "python",
   "pygments_lexer": "ipython3",
   "version": "3.9.2"
  },
  "orig_nbformat": 4
 },
 "nbformat": 4,
 "nbformat_minor": 2
}
