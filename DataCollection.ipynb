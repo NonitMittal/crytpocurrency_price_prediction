{
 "cells": [
  {
   "cell_type": "code",
   "execution_count": 1,
   "metadata": {},
   "outputs": [],
   "source": [
    "import pandas as pd\n",
    "from binance.client import Client\n",
    "from dotenv import load_dotenv\n",
    "import os\n",
    "import datetime as dt"
   ]
  },
  {
   "cell_type": "code",
   "execution_count": 2,
   "metadata": {},
   "outputs": [],
   "source": [
    "load_dotenv()\n",
    "\n",
    "# client configuration\n",
    "api_key =  os.getenv('API_KEY')\n",
    "api_secret = os.getenv('API_SECRET')\n",
    "client = Client(api_key, api_secret)"
   ]
  },
  {
   "cell_type": "code",
   "execution_count": 3,
   "metadata": {},
   "outputs": [],
   "source": [
    "symbol = \"ADAUSDT\"\n",
    "interval = \"4h\"\n",
    "\n",
    "Client.KLINE_INTERVAL_4HOUR \n",
    "klines = client.get_historical_klines(symbol, interval, \"1 May,2018\")\n",
    "\n",
    "data = pd.DataFrame(klines)\n",
    "\n",
    "# create columns name\n",
    "data.columns = ['open_time','open', 'high', 'low', 'close', 'volume','close_time', 'qav','num_trades','taker_base_vol', 'taker_quote_vol', 'ignore']\n",
    "\n",
    "# converted Epoch timestamp to readable format\n",
    "data.open_time = [dt.datetime.fromtimestamp(x/1000.0).strftime(\"%Y-%m-%d %H:%M:%S\") for x in data.open_time]\n",
    "data.close_time = [dt.datetime.fromtimestamp(x/1000.0).strftime(\"%Y-%m-%d %H:%M:%S\") for x in data.close_time]\n",
    "\n",
    "# save dataFrame as .csv\n",
    "data.to_csv(f\"./data/{symbol}.csv\", index = None, header=True)\n"
   ]
  }
 ],
 "metadata": {
  "interpreter": {
   "hash": "e320152057eea021e47fe8cc1dfc9f3a6f51f00fb3f1a5070f08ecf7355f06e6"
  },
  "kernelspec": {
   "display_name": "Python 3.9.2 64-bit",
   "name": "python3"
  },
  "language_info": {
   "codemirror_mode": {
    "name": "ipython",
    "version": 3
   },
   "file_extension": ".py",
   "mimetype": "text/x-python",
   "name": "python",
   "nbconvert_exporter": "python",
   "pygments_lexer": "ipython3",
   "version": "3.9.2"
  },
  "orig_nbformat": 4
 },
 "nbformat": 4,
 "nbformat_minor": 2
}
